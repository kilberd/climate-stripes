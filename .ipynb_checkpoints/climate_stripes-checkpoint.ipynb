{
 "cells": [
  {
   "cell_type": "code",
   "execution_count": 3,
   "id": "c78b741c-ec56-4315-adbe-f18da7d3b651",
   "metadata": {},
   "outputs": [
    {
     "name": "stdout",
     "output_type": "stream",
     "text": [
      "hi!\n"
     ]
    },
    {
     "data": {
      "image/png": "[encoded data removed]",
      "text/plain": [
       "<Figure size 900x400 with 1 Axes>"
      ]
     },
     "metadata": {},
     "output_type": "display_data"
    }
   ],
   "source": [
    "import xarray as xr\n",
    "import numpy as np\n",
    "import matplotlib.pyplot as plt\n",
    "\n",
    "ds = xr.open_dataset(\"air2x2250monanomcomb.nc\")\n",
    "\n",
    "tas_anom_yearly = ds[ \"air\"].resample(time=\"YE\").mean(dim=\"time\").mean(dim=\"lat\").mean(dim=\"lon\")\n",
    "color_anomaly = np.tile(tas_anom_yearly, (50,1))\n",
    "\n",
    "plt.figure(figsize=(9,4))\n",
    "plt.pcolor(color_anomaly, cmap = \"bwr\")\n",
    "print(\"hi!\")\n",
    "time_tags = [str(time)[:4] for time in tas_anom_yearly[\"time\"].values[::10]]\n",
    "plt.xticks(range(len(tas_anom_yearly))[::10], time_tags, fontsize = 8)\n",
    "plt.ylabel(None)\n",
    "frame = plt.gca()\n",
    "frame.axes.get_yaxis().set_visible(False)\n",
    "plt.savefig(\"climate_stripes.png\")"
   ]
  },
  {
   "cell_type": "code",
   "execution_count": null,
   "id": "ec0b735a-6fdd-4eed-9d7d-785175e3c0f5",
   "metadata": {},
   "outputs": [],
   "source": []
  }
 ],
 "metadata": {
  "kernelspec": {
   "display_name": "Python 3 (ipykernel)",
   "language": "python",
   "name": "python3"
  },
  "language_info": {
   "codemirror_mode": {
    "name": "ipython",
    "version": 3
   },
   "file_extension": ".py",
   "mimetype": "text/x-python",
   "name": "python",
   "nbconvert_exporter": "python",
   "pygments_lexer": "ipython3",
   "version": "3.10.10"
  }
 },
 "nbformat": 4,
 "nbformat_minor": 5
}
